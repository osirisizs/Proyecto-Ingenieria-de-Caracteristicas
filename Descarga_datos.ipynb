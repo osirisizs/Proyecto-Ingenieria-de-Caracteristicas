{
  "cells": [
    {
      "cell_type": "markdown",
      "metadata": {
        "id": "view-in-github",
        "colab_type": "text"
      },
      "source": [
        "<a href=\"https://colab.research.google.com/github/osirisizs/Proyecto-Ingenieria-de-Caracteristicas/blob/main/Descarga_datos.ipynb\" target=\"_parent\"><img src=\"https://colab.research.google.com/assets/colab-badge.svg\" alt=\"Open In Colab\"/></a>"
      ]
    },
    {
      "cell_type": "markdown",
      "metadata": {
        "id": "gkYL6ulALkCx"
      },
      "source": [
        "<center>\n",
        "<p><img src=\"https://mcd.unison.mx/wp-content/themes/awaken/img/logo_mcd.png\" width=\"150\">\n",
        "</p>\n",
        "\n",
        "\n",
        "\n",
        "# Curso *Ingeniería de Características*\n",
        "\n",
        "### Proyecto 1. *Descargando datos de la Web*\n",
        "\n",
        "\n",
        "<p> Osiris Alejandro Izaguirre </p>\n",
        "<p>\n",
        "<img src=\"https://identidadbuho.unison.mx/wp-content/uploads/2019/06/letragrama-cmyk-72.jpg\" width=\"150\">\n",
        "</p>\n",
        "\n",
        "\n",
        "<a target=\"_blank\" href=\"https://colab.research.google.com/drive/1Rkf4n6BfEigAZ1gol6cuh_WjYZ9lYKGg\"><img src=\"https://i.ibb.co/2P3SLwK/colab.png\"  style=\"padding-bottom:5px;\" />Ejecuta en Google Colab</a>\n",
        "\n",
        "</center>"
      ]
    },
    {
      "cell_type": "markdown",
      "metadata": {
        "id": "N1l-cD2NLkC0"
      },
      "source": [
        "# Objetivo\n",
        "\n",
        "Debido a la situación actual en términos de inseguridad en el estado de Sonora, así como en el resto del país, se plantea la extracción de datos públicos para el conocimiento y entendimiento de la forma en la que se presenta en los diferentes municipios y como se ven relacionadoa estos datos con el tema de **Crimen Organizado** y **Narcomenudeo** \n",
        "\n",
        "Para este proposito se utilizarán datos encontrados en la página oficial del [*Secretariado Ejecutivo del Sistema Nacional de Seguridad Pública*](https://www.gob.mx/sesnsp) sobre los casos por tipo de delito por municipio. \n",
        "\n",
        "Se consideran además datos sobre la percepción sobre seguridad publica en cada municipio de la *Encuesta Nacional de Victimización y Percepción sobre la Seguridad Pública (ENVIPE)* recabados por el [INEGI](https://www.inegi.org.mx/default.html). "
      ]
    },
    {
      "cell_type": "markdown",
      "source": [
        "# Importación de librerias\n",
        "\n",
        "Comenzamos con la importación de las librerias a utilizar a lo largo del proyecto:"
      ],
      "metadata": {
        "id": "ViR_VAJncu-C"
      }
    },
    {
      "cell_type": "code",
      "execution_count": 2,
      "metadata": {
        "id": "f5gXS9GFLkC0"
      },
      "outputs": [],
      "source": [
        "import os             # Para manejo de archivos y directorios\n",
        "import urllib.request # Una forma estandard de descargar datos\n",
        "# import requests     # Otra forma no de las librerías de uso comun\n",
        "\n",
        "import datetime       # Fecha de descarga\n",
        "import pandas as pd   # Solo para ver el archivo descargado\n",
        "import zipfile        # Descompresión de archivos"
      ]
    },
    {
      "cell_type": "markdown",
      "metadata": {
        "id": "_pRKQ__gLkC1"
      },
      "source": [
        "# Definiendo las rutas de los Datos a Utilizar\n",
        "\n",
        "Es importante saber en donde nos encontramos y crear los subdirectorios necesarios para guardar los datos de manera ordenada. Tambien es importante evitar cargar datos que ya han sido descargados anteriormente."
      ]
    },
    {
      "cell_type": "code",
      "execution_count": 3,
      "metadata": {
        "id": "M3JqN6OCLkC1",
        "colab": {
          "base_uri": "https://localhost:8080/"
        },
        "outputId": "5def6e44-989f-4755-bd87-9aabfaa7e690"
      },
      "outputs": [
        {
          "output_type": "stream",
          "name": "stdout",
          "text": [
            "/content\n"
          ]
        }
      ],
      "source": [
        "# pwd\n",
        "print(os.getcwd())\n",
        "\n",
        "#  Estos son los datos que vamos a descargar y donde vamos a guardarlos\n",
        "delitos_url = \"https://drive.google.com/u/0/uc?id=10fm7xF4F6X1uGDRNw5aEMOJo_GsFIeTR&export=download\"\n",
        "delitos_archivo = \"delitos.csv\"\n",
        "\n",
        "#  Los datos de encuestas de percepción sobre la seguridad pública se encuentran publicados por año \n",
        "#  por lo que se crean estos pedazos de URL para iterar utilizando una variable \"año\" al descargar\n",
        "percepcion_base_url = \"https://www.inegi.org.mx/contenidos/programas/envipe/\"\n",
        "percepcion_datosurl = \"/datosabiertos/conjunto_de_datos_ENVIPE\"\n",
        "percepcion_datos_url = \"/datosabiertos/conjunto_de_datos_ENVIPE_\"\n",
        "percepciondatosurl = \"/datosabiertos/ENVIPE_\"\n",
        "percepcion_final_url = \"_csv.zip\"\n",
        "percepcion_archivo = \"_percepción.zip\"\n",
        "\n",
        "subdir = \"./data/\"\n"
      ]
    },
    {
      "cell_type": "markdown",
      "source": [
        "# Descargando y extrayendo los Datos\n",
        "\n",
        "Debido a que las bases de datos del INEGI desde donde se van a descargar los datos complementarios sobre percepción de la seguridad pública no se encuentran completamente estandarizadas en sus URL se realizan condiciones especiales para la descarga de cada año."
      ],
      "metadata": {
        "id": "bBQY7WZey9gn"
      }
    },
    {
      "cell_type": "code",
      "execution_count": 4,
      "metadata": {
        "id": "PTsgYd6kLkC2"
      },
      "outputs": [],
      "source": [
        "if not os.path.exists(delitos_archivo):\n",
        "    if not os.path.exists(subdir):\n",
        "        os.makedirs(subdir)\n",
        "    urllib.request.urlretrieve(delitos_url, subdir + delitos_archivo)      \n",
        "\n",
        "    # Se encontraron algunas pequeñas variaciones en los URL de descarga de los diferentes años:\n",
        "    for year in range(2015, 2023):\n",
        "\n",
        "      if(year == 2015 or year == 2018 or year == 2019 or year == 2020):\n",
        "        urllib.request.urlretrieve(percepcion_base_url + str(year) + percepcion_datosurl + str(year) + percepcion_final_url, \n",
        "                                 subdir + str(year) + percepcion_archivo)\n",
        "        with zipfile.ZipFile(subdir + str(year) + percepcion_archivo, \"r\") as zip_ref:\n",
        "          zip_ref.extractall(subdir)   \n",
        "\n",
        "      elif(year == 2016 or year == 2017):\n",
        "        urllib.request.urlretrieve(percepcion_base_url + str(year) + percepciondatosurl + str(year) + percepcion_final_url, \n",
        "                                 subdir + str(year) + percepcion_archivo)\n",
        "        with zipfile.ZipFile(subdir + str(year) + percepcion_archivo, \"r\") as zip_ref:\n",
        "          zip_ref.extractall(subdir) \n",
        "\n",
        "      else:\n",
        "        urllib.request.urlretrieve(percepcion_base_url + str(year) + percepcion_datos_url + str(year) + percepcion_final_url, \n",
        "                                 subdir + str(year) + percepcion_archivo)\n",
        "        with zipfile.ZipFile(subdir + str(year) + percepcion_archivo, \"r\") as zip_ref:\n",
        "          zip_ref.extractall(subdir) \n",
        "\n",
        "    with open(subdir + \"info.txt\", 'w') as f:\n",
        "        f.write(\"Archivos sobre delincuencia en Sonora\\n\")\n",
        "        info = \"\"\"\n",
        "        Datos sobre los delitos denunciados oficialmente en la página del Secretariado Ejecutivo del Sistema Nacional \n",
        "        de Seguridad Pública, complementados con datos del INEGI sobre la percepción sobre seguridad pública en Sonora.             \n",
        "\n",
        "        Los datos se obtuvieron del SESNSP con fecha de 20 de septiembre de 2022 (la base de datos se actualiza constantemente) \n",
        "\n",
        "        \"\"\" \n",
        "        f.write(info + '\\n')\n",
        "        f.write(\"Descargado el \" + datetime.datetime.now().strftime(\"%Y-%m-%d %H:%M:%S\") + \"\\n\")\n",
        "        f.write(\"Desde: \" + delitos_url + \"\\n\")\n",
        "        f.write(\"Nombre: \" + delitos_archivo + \"\\n\")\n",
        "        \n",
        "        for year in range(2015, 2023):\n",
        "          \n",
        "          if(year == 2015 or year == 2018 or year == 2019 or year == 2020):\n",
        "            f.write(\"Agregados sobre percepción nacional descargados desde: \" + percepcion_base_url + str(year) + percepcion_datosurl + str(year) + percepcion_final_url + \"\\n\")\n",
        "            f.write(\"Nombre: \" + str(year) + percepcion_archivo + \"\\n\")\n",
        "\n",
        "          elif(year == 2016 or year == 2017):\n",
        "            f.write(\"Agregados sobre percepción nacional descargados desde: \" + percepcion_base_url + str(year) + percepciondatosurl + str(year) + percepcion_final_url + \"\\n\")\n",
        "            f.write(\"Nombre: \" + str(year) + percepcion_archivo + \"\\n\")\n",
        "          \n",
        "          else:\n",
        "            f.write(\"Agregados sobre percepción nacional descargados desde: \" + percepcion_base_url + str(year) + percepcion_datos_url + str(year) + percepcion_final_url + \"\\n\")\n",
        "            f.write(\"Nombre: \" + str(year) + percepcion_archivo + \"\\n\")\n",
        "\n",
        "    with open(subdir + \"Diccionario_de_Datos.txt\", 'w') as f:\n",
        "        f.write(\"Diccionario de datos: \\n\")\n",
        "        info = \"\"\"\n",
        "        Datos del SESNSP:\n",
        "\n",
        "        Año                      | Año de registro de las averiguaciones previas y/o carpetas de investigación.\n",
        "        Calve_Ent                | Clave de la entidad, según el Marco Geoestadístico Nacional (MGN), del Instituto Nacionnal de \n",
        "                                 | Geografía y Estadística (INEGI).\n",
        "        Entidad                  | Entidad federativa de regitro de las averiguaciones previas y/o carpetas de investigación.\n",
        "        Bien juridico afectado   | Primera clasificación de los delitos en las averiguaciones previas y/o carpetas de investigación.\n",
        "        Tipo de delito           | Segunda clasificación de los delitos.\n",
        "        Subtipo de delito        | Tercera clasificación de los delitos.\n",
        "        Modalidad                | Cuarta clasificación de los delitos.\n",
        "        Enero - Diciembre        | Mes del registro de las averiguaciones previas y/o carpeta de investigación.\n",
        "\n",
        "        Datos del INEGI (ENVIPE):\n",
        "\n",
        "        ...\n",
        "\n",
        "        \"\"\" \n",
        "        f.write(info + '\\n')\n"
      ]
    },
    {
      "cell_type": "markdown",
      "source": [
        "# Leyendo los archivos .csv en Data Frames de Pandas\n",
        "\n",
        "Es necesario leer los archivos .csv e importarlos como un data frame utilizable con las librerias de pandas y otras en python para su procesamiento. "
      ],
      "metadata": {
        "id": "oHVNconXDuXQ"
      }
    },
    {
      "cell_type": "code",
      "source": [
        "percepcion_2022_df = pd.read_csv(subdir + )\n",
        "\n",
        "percepcion_2022_df\n"
      ],
      "metadata": {
        "colab": {
          "base_uri": "https://localhost:8080/",
          "height": 259
        },
        "id": "VRPZJzrBEBue",
        "outputId": "4bd9657a-6ce1-4c87-9895-bd5c12e60342"
      },
      "execution_count": 29,
      "outputs": [
        {
          "output_type": "error",
          "ename": "UnicodeDecodeError",
          "evalue": "ignored",
          "traceback": [
            "\u001b[0;31m---------------------------------------------------------------------------\u001b[0m",
            "\u001b[0;31mUnicodeDecodeError\u001b[0m                        Traceback (most recent call last)",
            "\u001b[0;32m<ipython-input-29-3333cd7da5ab>\u001b[0m in \u001b[0;36m<module>\u001b[0;34m\u001b[0m\n\u001b[0;32m----> 1\u001b[0;31m \u001b[0mpercepcion_2022_df\u001b[0m \u001b[0;34m=\u001b[0m \u001b[0mpd\u001b[0m\u001b[0;34m.\u001b[0m\u001b[0mread_csv\u001b[0m\u001b[0;34m(\u001b[0m\u001b[0msubdir\u001b[0m \u001b[0;34m+\u001b[0m \u001b[0;34m'conjunto_de_datos_TPer_Vic1_ENVIPE_2022/conjunto_de_datos/conjunto_de_datos_TPer_Vic1_ENVIPE_2022.csv'\u001b[0m\u001b[0;34m)\u001b[0m\u001b[0;34m\u001b[0m\u001b[0;34m\u001b[0m\u001b[0m\n\u001b[0m\u001b[1;32m      2\u001b[0m \u001b[0;34m\u001b[0m\u001b[0m\n\u001b[1;32m      3\u001b[0m \u001b[0mpercepcion_2022_df\u001b[0m\u001b[0;34m\u001b[0m\u001b[0;34m\u001b[0m\u001b[0m\n",
            "\u001b[0;32m/usr/local/lib/python3.7/dist-packages/pandas/util/_decorators.py\u001b[0m in \u001b[0;36mwrapper\u001b[0;34m(*args, **kwargs)\u001b[0m\n\u001b[1;32m    309\u001b[0m                     \u001b[0mstacklevel\u001b[0m\u001b[0;34m=\u001b[0m\u001b[0mstacklevel\u001b[0m\u001b[0;34m,\u001b[0m\u001b[0;34m\u001b[0m\u001b[0;34m\u001b[0m\u001b[0m\n\u001b[1;32m    310\u001b[0m                 )\n\u001b[0;32m--> 311\u001b[0;31m             \u001b[0;32mreturn\u001b[0m \u001b[0mfunc\u001b[0m\u001b[0;34m(\u001b[0m\u001b[0;34m*\u001b[0m\u001b[0margs\u001b[0m\u001b[0;34m,\u001b[0m \u001b[0;34m**\u001b[0m\u001b[0mkwargs\u001b[0m\u001b[0;34m)\u001b[0m\u001b[0;34m\u001b[0m\u001b[0;34m\u001b[0m\u001b[0m\n\u001b[0m\u001b[1;32m    312\u001b[0m \u001b[0;34m\u001b[0m\u001b[0m\n\u001b[1;32m    313\u001b[0m         \u001b[0;32mreturn\u001b[0m \u001b[0mwrapper\u001b[0m\u001b[0;34m\u001b[0m\u001b[0;34m\u001b[0m\u001b[0m\n",
            "\u001b[0;32m/usr/local/lib/python3.7/dist-packages/pandas/io/parsers/readers.py\u001b[0m in \u001b[0;36mread_csv\u001b[0;34m(filepath_or_buffer, sep, delimiter, header, names, index_col, usecols, squeeze, prefix, mangle_dupe_cols, dtype, engine, converters, true_values, false_values, skipinitialspace, skiprows, skipfooter, nrows, na_values, keep_default_na, na_filter, verbose, skip_blank_lines, parse_dates, infer_datetime_format, keep_date_col, date_parser, dayfirst, cache_dates, iterator, chunksize, compression, thousands, decimal, lineterminator, quotechar, quoting, doublequote, escapechar, comment, encoding, encoding_errors, dialect, error_bad_lines, warn_bad_lines, on_bad_lines, delim_whitespace, low_memory, memory_map, float_precision, storage_options)\u001b[0m\n\u001b[1;32m    584\u001b[0m     \u001b[0mkwds\u001b[0m\u001b[0;34m.\u001b[0m\u001b[0mupdate\u001b[0m\u001b[0;34m(\u001b[0m\u001b[0mkwds_defaults\u001b[0m\u001b[0;34m)\u001b[0m\u001b[0;34m\u001b[0m\u001b[0;34m\u001b[0m\u001b[0m\n\u001b[1;32m    585\u001b[0m \u001b[0;34m\u001b[0m\u001b[0m\n\u001b[0;32m--> 586\u001b[0;31m     \u001b[0;32mreturn\u001b[0m \u001b[0m_read\u001b[0m\u001b[0;34m(\u001b[0m\u001b[0mfilepath_or_buffer\u001b[0m\u001b[0;34m,\u001b[0m \u001b[0mkwds\u001b[0m\u001b[0;34m)\u001b[0m\u001b[0;34m\u001b[0m\u001b[0;34m\u001b[0m\u001b[0m\n\u001b[0m\u001b[1;32m    587\u001b[0m \u001b[0;34m\u001b[0m\u001b[0m\n\u001b[1;32m    588\u001b[0m \u001b[0;34m\u001b[0m\u001b[0m\n",
            "\u001b[0;32m/usr/local/lib/python3.7/dist-packages/pandas/io/parsers/readers.py\u001b[0m in \u001b[0;36m_read\u001b[0;34m(filepath_or_buffer, kwds)\u001b[0m\n\u001b[1;32m    486\u001b[0m \u001b[0;34m\u001b[0m\u001b[0m\n\u001b[1;32m    487\u001b[0m     \u001b[0;32mwith\u001b[0m \u001b[0mparser\u001b[0m\u001b[0;34m:\u001b[0m\u001b[0;34m\u001b[0m\u001b[0;34m\u001b[0m\u001b[0m\n\u001b[0;32m--> 488\u001b[0;31m         \u001b[0;32mreturn\u001b[0m \u001b[0mparser\u001b[0m\u001b[0;34m.\u001b[0m\u001b[0mread\u001b[0m\u001b[0;34m(\u001b[0m\u001b[0mnrows\u001b[0m\u001b[0;34m)\u001b[0m\u001b[0;34m\u001b[0m\u001b[0;34m\u001b[0m\u001b[0m\n\u001b[0m\u001b[1;32m    489\u001b[0m \u001b[0;34m\u001b[0m\u001b[0m\n\u001b[1;32m    490\u001b[0m \u001b[0;34m\u001b[0m\u001b[0m\n",
            "\u001b[0;32m/usr/local/lib/python3.7/dist-packages/pandas/io/parsers/readers.py\u001b[0m in \u001b[0;36mread\u001b[0;34m(self, nrows)\u001b[0m\n\u001b[1;32m   1045\u001b[0m     \u001b[0;32mdef\u001b[0m \u001b[0mread\u001b[0m\u001b[0;34m(\u001b[0m\u001b[0mself\u001b[0m\u001b[0;34m,\u001b[0m \u001b[0mnrows\u001b[0m\u001b[0;34m=\u001b[0m\u001b[0;32mNone\u001b[0m\u001b[0;34m)\u001b[0m\u001b[0;34m:\u001b[0m\u001b[0;34m\u001b[0m\u001b[0;34m\u001b[0m\u001b[0m\n\u001b[1;32m   1046\u001b[0m         \u001b[0mnrows\u001b[0m \u001b[0;34m=\u001b[0m \u001b[0mvalidate_integer\u001b[0m\u001b[0;34m(\u001b[0m\u001b[0;34m\"nrows\"\u001b[0m\u001b[0;34m,\u001b[0m \u001b[0mnrows\u001b[0m\u001b[0;34m)\u001b[0m\u001b[0;34m\u001b[0m\u001b[0;34m\u001b[0m\u001b[0m\n\u001b[0;32m-> 1047\u001b[0;31m         \u001b[0mindex\u001b[0m\u001b[0;34m,\u001b[0m \u001b[0mcolumns\u001b[0m\u001b[0;34m,\u001b[0m \u001b[0mcol_dict\u001b[0m \u001b[0;34m=\u001b[0m \u001b[0mself\u001b[0m\u001b[0;34m.\u001b[0m\u001b[0m_engine\u001b[0m\u001b[0;34m.\u001b[0m\u001b[0mread\u001b[0m\u001b[0;34m(\u001b[0m\u001b[0mnrows\u001b[0m\u001b[0;34m)\u001b[0m\u001b[0;34m\u001b[0m\u001b[0;34m\u001b[0m\u001b[0m\n\u001b[0m\u001b[1;32m   1048\u001b[0m \u001b[0;34m\u001b[0m\u001b[0m\n\u001b[1;32m   1049\u001b[0m         \u001b[0;32mif\u001b[0m \u001b[0mindex\u001b[0m \u001b[0;32mis\u001b[0m \u001b[0;32mNone\u001b[0m\u001b[0;34m:\u001b[0m\u001b[0;34m\u001b[0m\u001b[0;34m\u001b[0m\u001b[0m\n",
            "\u001b[0;32m/usr/local/lib/python3.7/dist-packages/pandas/io/parsers/c_parser_wrapper.py\u001b[0m in \u001b[0;36mread\u001b[0;34m(self, nrows)\u001b[0m\n\u001b[1;32m    222\u001b[0m         \u001b[0;32mtry\u001b[0m\u001b[0;34m:\u001b[0m\u001b[0;34m\u001b[0m\u001b[0;34m\u001b[0m\u001b[0m\n\u001b[1;32m    223\u001b[0m             \u001b[0;32mif\u001b[0m \u001b[0mself\u001b[0m\u001b[0;34m.\u001b[0m\u001b[0mlow_memory\u001b[0m\u001b[0;34m:\u001b[0m\u001b[0;34m\u001b[0m\u001b[0;34m\u001b[0m\u001b[0m\n\u001b[0;32m--> 224\u001b[0;31m                 \u001b[0mchunks\u001b[0m \u001b[0;34m=\u001b[0m \u001b[0mself\u001b[0m\u001b[0;34m.\u001b[0m\u001b[0m_reader\u001b[0m\u001b[0;34m.\u001b[0m\u001b[0mread_low_memory\u001b[0m\u001b[0;34m(\u001b[0m\u001b[0mnrows\u001b[0m\u001b[0;34m)\u001b[0m\u001b[0;34m\u001b[0m\u001b[0;34m\u001b[0m\u001b[0m\n\u001b[0m\u001b[1;32m    225\u001b[0m                 \u001b[0;31m# destructive to chunks\u001b[0m\u001b[0;34m\u001b[0m\u001b[0;34m\u001b[0m\u001b[0;34m\u001b[0m\u001b[0m\n\u001b[1;32m    226\u001b[0m                 \u001b[0mdata\u001b[0m \u001b[0;34m=\u001b[0m \u001b[0m_concatenate_chunks\u001b[0m\u001b[0;34m(\u001b[0m\u001b[0mchunks\u001b[0m\u001b[0;34m)\u001b[0m\u001b[0;34m\u001b[0m\u001b[0;34m\u001b[0m\u001b[0m\n",
            "\u001b[0;32m/usr/local/lib/python3.7/dist-packages/pandas/_libs/parsers.pyx\u001b[0m in \u001b[0;36mpandas._libs.parsers.TextReader.read_low_memory\u001b[0;34m()\u001b[0m\n",
            "\u001b[0;32m/usr/local/lib/python3.7/dist-packages/pandas/_libs/parsers.pyx\u001b[0m in \u001b[0;36mpandas._libs.parsers.TextReader._read_rows\u001b[0;34m()\u001b[0m\n",
            "\u001b[0;32m/usr/local/lib/python3.7/dist-packages/pandas/_libs/parsers.pyx\u001b[0m in \u001b[0;36mpandas._libs.parsers.TextReader._tokenize_rows\u001b[0;34m()\u001b[0m\n",
            "\u001b[0;32m/usr/local/lib/python3.7/dist-packages/pandas/_libs/parsers.pyx\u001b[0m in \u001b[0;36mpandas._libs.parsers.raise_parser_error\u001b[0;34m()\u001b[0m\n",
            "\u001b[0;31mUnicodeDecodeError\u001b[0m: 'utf-8' codec can't decode byte 0xfa in position 63277: invalid start byte"
          ]
        }
      ]
    }
  ],
  "metadata": {
    "kernelspec": {
      "display_name": "Python 3.8.5 ('caract')",
      "language": "python",
      "name": "python3"
    },
    "language_info": {
      "codemirror_mode": {
        "name": "ipython",
        "version": 3
      },
      "file_extension": ".py",
      "mimetype": "text/x-python",
      "name": "python",
      "nbconvert_exporter": "python",
      "pygments_lexer": "ipython3",
      "version": "3.8.5"
    },
    "orig_nbformat": 4,
    "vscode": {
      "interpreter": {
        "hash": "266c02d0b88fb79ac68216b08bc6bf334e56f5daeb776843302a4ad1205260c4"
      }
    },
    "colab": {
      "provenance": [],
      "collapsed_sections": [],
      "include_colab_link": true
    }
  },
  "nbformat": 4,
  "nbformat_minor": 0
}