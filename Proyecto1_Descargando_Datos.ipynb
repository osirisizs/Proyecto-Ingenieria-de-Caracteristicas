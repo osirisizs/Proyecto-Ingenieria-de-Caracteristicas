{
  "nbformat": 4,
  "nbformat_minor": 0,
  "metadata": {
    "colab": {
      "provenance": [],
      "authorship_tag": "ABX9TyN3cprUeP1JPFq1KPEewMs+",
      "include_colab_link": true
    },
    "kernelspec": {
      "name": "python3",
      "display_name": "Python 3"
    },
    "language_info": {
      "name": "python"
    }
  },
  "cells": [
    {
      "cell_type": "markdown",
      "metadata": {
        "id": "view-in-github",
        "colab_type": "text"
      },
      "source": [
        "<a href=\"https://colab.research.google.com/github/osirisizs/Proyecto-Ingenieria-de-Caracteristicas/blob/main/Proyecto1_Descargando_Datos.ipynb\" target=\"_parent\"><img src=\"https://colab.research.google.com/assets/colab-badge.svg\" alt=\"Open In Colab\"/></a>"
      ]
    },
    {
      "cell_type": "markdown",
      "source": [
        "<center>\n",
        "<p><img src=\"https://mcd.unison.mx/wp-content/themes/awaken/img/logo_mcd.png\" width=\"150\">\n",
        "</p>\n",
        "\n",
        "\n",
        "\n",
        "# Curso *Ingeniería de Características*\n",
        "\n",
        "### Proyecto 1. *Descargando datos de la Web*\n",
        "\n",
        "\n",
        "<p> Osiris Alejandro Izaguirre </p>\n",
        "<p>\n",
        "<img src=\"https://identidadbuho.unison.mx/wp-content/uploads/2019/06/letragrama-cmyk-72.jpg\" width=\"150\">\n",
        "</p>\n",
        "\n",
        "\n",
        "<a target=\"_blank\" href=\"https://colab.research.google.com/drive/1Rkf4n6BfEigAZ1gol6cuh_WjYZ9lYKGg\"><img src=\"https://i.ibb.co/2P3SLwK/colab.png\"  style=\"padding-bottom:5px;\" />Ejecuta en Google Colab</a>\n",
        "\n",
        "</center>"
      ],
      "metadata": {
        "id": "3nypg-tWhVUk"
      }
    },
    {
      "cell_type": "markdown",
      "source": [
        "# Objetivo\n",
        "\n",
        "Debido a la situación actual en términos de inseguridad en el estado de Sonora, así como en el resto del país, se plantea la extracción de datos públicos para el conocimiento y entendimiento de la forma en la que se presenta en los diferentes municipios y como se ven relacionadoa estos datos con el tema de **Crimen Organizado** y **Narcomenudeo** \n",
        "\n",
        "Para este proposito se utilizarán datos encontrados en la página oficial del [*Secretariado Ejecutivo del Sistema Nacional de Seguridad Pública*](https://www.gob.mx/sesnsp) sobre los casos por tipo de delito por municipio. \n",
        "\n",
        "Se consideran además datos sobre la percepción sobre seguridad publica en cada municipio de la *Encuesta Nacional de Victimización y Percepción sobre la Seguridad Pública (ENVIPE)* recabados por el [INEGI](https://www.inegi.org.mx/default.html). "
      ],
      "metadata": {
        "id": "AbDt-GnDhbkz"
      }
    },
    {
      "cell_type": "markdown",
      "source": [
        "# Importación de librerias\n",
        "\n",
        "Comenzamos con la importación de las librerias a utilizar a lo largo del proyecto:"
      ],
      "metadata": {
        "id": "4qaQ-h-xhd9K"
      }
    },
    {
      "cell_type": "code",
      "execution_count": 1,
      "metadata": {
        "id": "BEd6eoZ5kVk_"
      },
      "outputs": [],
      "source": [
        "import os             # Para manejo de archivos y directorios\n",
        "import urllib.request # Una forma estandard de descargar datos\n",
        "# import requests     # Otra forma no de las librerías de uso comun\n",
        "\n",
        "import datetime       # Fecha de descarga\n",
        "import pandas as pd   # Solo para ver el archivo descargado\n",
        "import zipfile        # Descompresión de archivos\n",
        "import gdown          # Para descargar archivos grandes desde Google Drive"
      ]
    },
    {
      "cell_type": "markdown",
      "source": [
        "# Definiendo las rutas de los Datos a Utilizar\n",
        "\n",
        "Es importante saber en donde nos encontramos y crear los subdirectorios necesarios para guardar los datos de manera ordenada. Tambien es importante evitar cargar datos que ya han sido descargados anteriormente."
      ],
      "metadata": {
        "id": "_rx72MpAhifK"
      }
    },
    {
      "cell_type": "code",
      "source": [
        "# pwd\n",
        "print(os.getcwd())\n",
        "\n",
        "#  Estos son los datos que vamos a descargar y donde vamos a guardarlos\n",
        "delitos_url = \"https://drive.google.com/u/0/uc?id=10fm7xF4F6X1uGDRNw5aEMOJo_GsFIeTR&export=download\"\n",
        "delitos_archivo = \"delitos.csv\"\n",
        "\n",
        "#  Los datos de encuestas de percepción sobre la seguridad pública se encuentran publicados por año \n",
        "#  por lo que se crean estos pedazos de URL para iterar utilizando una variable \"año\" al descargar\n",
        "percepcion_base_url = \"https://www.inegi.org.mx/contenidos/programas/envipe/\"\n",
        "percepcion_datosurl = \"/datosabiertos/conjunto_de_datos_ENVIPE\"\n",
        "percepcion_datos_url = \"/datosabiertos/conjunto_de_datos_ENVIPE_\"\n",
        "percepciondatosurl = \"/datosabiertos/ENVIPE_\"\n",
        "percepcion_final_url = \"_csv.zip\"\n",
        "percepcion_archivo = \"_percepción.zip\"\n",
        "\n",
        "subdir = \"./data/\"\n"
      ],
      "metadata": {
        "colab": {
          "base_uri": "https://localhost:8080/"
        },
        "id": "6vOsv3tTkaKG",
        "outputId": "ef0d6269-f1e1-41dd-fc5e-18e7111da3c5"
      },
      "execution_count": 2,
      "outputs": [
        {
          "output_type": "stream",
          "name": "stdout",
          "text": [
            "/content\n"
          ]
        }
      ]
    },
    {
      "cell_type": "markdown",
      "source": [
        "# Descargando y extrayendo los Datos\n",
        "\n",
        "Debido a que las bases de datos del INEGI desde donde se van a descargar los datos complementarios sobre percepción de la seguridad pública no se encuentran completamente estandarizadas en sus URL se realizan condiciones especiales para la descarga de cada año."
      ],
      "metadata": {
        "id": "O0Pmqr80hlEz"
      }
    },
    {
      "cell_type": "code",
      "source": [
        "if not os.path.exists(delitos_archivo):\n",
        "    if not os.path.exists(subdir):\n",
        "        os.makedirs(subdir)\n",
        "    gdown.download(delitos_url, subdir + delitos_archivo)      \n",
        "\n",
        "    # Se encontraron algunas pequeñas variaciones en los URL de descarga de los diferentes años:\n",
        "    for year in range(2017, 2023):\n",
        "\n",
        "      if(year == 2018 or year == 2019 or year == 2020):\n",
        "        gdown.download(percepcion_base_url + str(year) + percepcion_datosurl + str(year) + percepcion_final_url, \n",
        "                                 subdir + str(year) + percepcion_archivo)\n",
        "        with zipfile.ZipFile(subdir + str(year) + percepcion_archivo, \"r\") as zip_ref:\n",
        "          zip_ref.extractall(subdir)   \n",
        "\n",
        "      elif(year == 2017):\n",
        "        gdown.download(percepcion_base_url + str(year) + percepciondatosurl + str(year) + percepcion_final_url, \n",
        "                                 subdir + str(year) + percepcion_archivo)\n",
        "        with zipfile.ZipFile(subdir + str(year) + percepcion_archivo, \"r\") as zip_ref:\n",
        "          zip_ref.extractall(subdir) \n",
        "\n",
        "      else:\n",
        "        gdown.download(percepcion_base_url + str(year) + percepcion_datos_url + str(year) + percepcion_final_url, \n",
        "                                 subdir + str(year) + percepcion_archivo)\n",
        "        with zipfile.ZipFile(subdir + str(year) + percepcion_archivo, \"r\") as zip_ref:\n",
        "          zip_ref.extractall(subdir) \n",
        "\n",
        "    with open(subdir + \"info.txt\", 'w') as f:\n",
        "        f.write(\"Archivos sobre delincuencia en Sonora\\n\")\n",
        "        info = \"\"\"\n",
        "        Datos sobre los delitos denunciados oficialmente en la página del Secretariado Ejecutivo del Sistema Nacional \n",
        "        de Seguridad Pública, complementados con datos del INEGI sobre la percepción sobre seguridad pública en Sonora.             \n",
        "\n",
        "        Los datos se obtuvieron del SESNSP con fecha de 20 de septiembre de 2022 (la base de datos se actualiza constantemente) \n",
        "\n",
        "        \"\"\" \n",
        "        f.write(info + '\\n')\n",
        "        f.write(\"Descargado el \" + datetime.datetime.now().strftime(\"%Y-%m-%d %H:%M:%S\") + \"\\n\")\n",
        "        f.write(\"Desde: \" + delitos_url + \"\\n\")\n",
        "        f.write(\"Nombre: \" + delitos_archivo + \"\\n\")\n",
        "        \n",
        "        for year in range(2017, 2023):\n",
        "          \n",
        "          if(year == 2018 or year == 2019 or year == 2020):\n",
        "            f.write(\"Agregados sobre percepción nacional descargados desde: \" + percepcion_base_url + str(year) + percepcion_datosurl + str(year) + percepcion_final_url + \"\\n\")\n",
        "            f.write(\"Nombre: \" + str(year) + percepcion_archivo + \"\\n\")\n",
        "\n",
        "          elif(year == 2017):\n",
        "            f.write(\"Agregados sobre percepción nacional descargados desde: \" + percepcion_base_url + str(year) + percepciondatosurl + str(year) + percepcion_final_url + \"\\n\")\n",
        "            f.write(\"Nombre: \" + str(year) + percepcion_archivo + \"\\n\")\n",
        "          \n",
        "          else:\n",
        "            f.write(\"Agregados sobre percepción nacional descargados desde: \" + percepcion_base_url + str(year) + percepcion_datos_url + str(year) + percepcion_final_url + \"\\n\")\n",
        "            f.write(\"Nombre: \" + str(year) + percepcion_archivo + \"\\n\")\n",
        "\n",
        "    with open(subdir + \"Diccionario_de_Datos.txt\", 'w') as f:\n",
        "        f.write(\"Diccionario de datos: \\n\")\n",
        "        info = \"\"\"\n",
        "        Datos del SESNSP:\n",
        "\n",
        "        Año                      | Año de registro de las averiguaciones previas y/o carpetas de investigación.\n",
        "        Calve_Ent                | Clave de la entidad, según el Marco Geoestadístico Nacional (MGN), del Instituto Nacionnal de \n",
        "                                 | Geografía y Estadística (INEGI).\n",
        "        Entidad                  | Entidad federativa de regitro de las averiguaciones previas y/o carpetas de investigación.\n",
        "        Bien juridico afectado   | Primera clasificación de los delitos en las averiguaciones previas y/o carpetas de investigación.\n",
        "        Tipo de delito           | Segunda clasificación de los delitos.\n",
        "        Subtipo de delito        | Tercera clasificación de los delitos.\n",
        "        Modalidad                | Cuarta clasificación de los delitos.\n",
        "        Enero - Diciembre        | Mes del registro de las averiguaciones previas y/o carpeta de investigación.\n",
        "\n",
        "        Datos del INEGI (ENVIPE):\n",
        "\n",
        "        ...\n",
        "\n",
        "        \"\"\" \n",
        "        f.write(info + '\\n')\n"
      ],
      "metadata": {
        "colab": {
          "base_uri": "https://localhost:8080/"
        },
        "id": "2uLldSCFkz58",
        "outputId": "9d694d44-2f51-4ca3-e78d-f2488e1c3195"
      },
      "execution_count": 12,
      "outputs": [
        {
          "output_type": "stream",
          "name": "stderr",
          "text": [
            "Downloading...\n",
            "From: https://drive.google.com/u/0/uc?id=10fm7xF4F6X1uGDRNw5aEMOJo_GsFIeTR&export=download\n",
            "To: /content/data/delitos.csv\n",
            "100%|██████████| 270M/270M [00:02<00:00, 127MB/s] \n",
            "Downloading...\n",
            "From: https://www.inegi.org.mx/contenidos/programas/envipe/2017/datosabiertos/ENVIPE_2017_csv.zip\n",
            "To: /content/data/2017_percepción.zip\n",
            "100%|██████████| 24.8M/24.8M [00:13<00:00, 1.88MB/s]\n",
            "Downloading...\n",
            "From: https://www.inegi.org.mx/contenidos/programas/envipe/2018/datosabiertos/conjunto_de_datos_ENVIPE2018_csv.zip\n",
            "To: /content/data/2018_percepción.zip\n",
            "100%|██████████| 24.3M/24.3M [00:13<00:00, 1.87MB/s]\n",
            "Downloading...\n",
            "From: https://www.inegi.org.mx/contenidos/programas/envipe/2019/datosabiertos/conjunto_de_datos_ENVIPE2019_csv.zip\n",
            "To: /content/data/2019_percepción.zip\n",
            "100%|██████████| 19.1M/19.1M [00:10<00:00, 1.88MB/s]\n",
            "Downloading...\n",
            "From: https://www.inegi.org.mx/contenidos/programas/envipe/2020/datosabiertos/conjunto_de_datos_ENVIPE2020_csv.zip\n",
            "To: /content/data/2020_percepción.zip\n",
            "100%|██████████| 20.3M/20.3M [00:10<00:00, 1.90MB/s]\n",
            "Downloading...\n",
            "From: https://www.inegi.org.mx/contenidos/programas/envipe/2021/datosabiertos/conjunto_de_datos_ENVIPE_2021_csv.zip\n",
            "To: /content/data/2021_percepción.zip\n",
            "100%|██████████| 22.3M/22.3M [00:11<00:00, 1.89MB/s]\n",
            "Downloading...\n",
            "From: https://www.inegi.org.mx/contenidos/programas/envipe/2022/datosabiertos/conjunto_de_datos_ENVIPE_2022_csv.zip\n",
            "To: /content/data/2022_percepción.zip\n",
            "100%|██████████| 18.9M/18.9M [00:09<00:00, 1.89MB/s]\n"
          ]
        }
      ]
    },
    {
      "cell_type": "markdown",
      "source": [
        "# Leyendo los archivos .csv en Data Frames de Pandas\n",
        "\n",
        "Es necesario leer los archivos .csv e importarlos como un data frame utilizable con las librerias de pandas y otras en python para su procesamiento. "
      ],
      "metadata": {
        "id": "P0A5GLaVht96"
      }
    },
    {
      "cell_type": "code",
      "source": [
        "# Archivo sobre Delitos\n",
        "delitos_df = pd.read_csv(subdir + delitos_archivo, encoding = 'latin-1')\n",
        "\n",
        "# Se importaran los DataFrames de manera individual devido a la falta de estandarización del INEGI\n",
        "\n",
        "# Archivo sobre Percepción de Seguridad Pública 2017\n",
        "percepcion2017_df = pd.read_csv(subdir + 'tper_vic1_envipe2017/conjunto_de_datos/tper_vic1.csv',\n",
        "                                encoding = 'latin-1')\n",
        "diccionario2017_df = pd.read_csv(subdir + 'tper_vic1_envipe2017/diccionario_de_datos/diccionario_de_datos_tper_vic1.csv', \n",
        "                                 encoding = 'latin-1')\n",
        "\n",
        "# Archivo sobre Percepción de Seguridad Pública 2018\n",
        "percepcion2018_df = pd.read_csv(subdir + 'conjunto_de_datos_tper_vic1_envipe_2018/conjunto_de_datos/conjunto_de_datos_tper_vic1_envipe_2018.csv')\n",
        "diccionario2018_df = pd.read_csv(subdir + 'conjunto_de_datos_tper_vic1_envipe_2018/diccionario_de_datos/diccionario_de_datos_tper_vic1_envipe_2018.csv')\n",
        "\n",
        "# Archivo sobre Percepción de Seguridad Pública 2019\n",
        "percepcion2019_df = pd.read_csv(subdir + 'conjunto_de_datos_TPer_Vic1_ENVIPE_2019/conjunto_de_datos/conjunto_de_datos_TPer_Vic1_ENVIPE_2019.csv')\n",
        "diccionario2019_df = pd.read_csv(subdir + 'conjunto_de_datos_TPer_Vic1_ENVIPE_2019/diccionario_de_datos/diccionario_de_datos_TPer_Vic1_ENVIPE_2019.csv', \n",
        "                                 encoding = 'latin-1')\n",
        "\n",
        "# Archivo sobre Percepción de Seguridad Pública 2020\n",
        "percepcion2020_df = pd.read_csv(subdir + 'conjunto_de_datos_TPer_Vic1_ENVIPE_2020/conjunto_de_datos/conjunto_de_datos_TPer_Vic1_ENVIPE_2020.csv', \n",
        "                                encoding = 'latin-1')\n",
        "diccionario2020_df = pd.read_csv(subdir + 'conjunto_de_datos_TPer_Vic1_ENVIPE_2020/diccionario_de_datos/diccionario_de_datos_TPer_Vic1_ENVIPE_2020.csv', \n",
        "                                 encoding = 'latin-1')\n",
        "\n",
        "# Archivo sobre Percepción de Seguridad Pública 2021\n",
        "percepcion2021_df = pd.read_csv(subdir + 'conjunto_de_datos_TPer_Vic1_ENVIPE_2021/conjunto_de_datos/conjunto_de_datos_TPer_Vic1_ENVIPE_2021.csv', \n",
        "                                encoding = 'latin-1')\n",
        "diccionario2021_df = pd.read_csv(subdir + 'conjunto_de_datos_TPer_Vic1_ENVIPE_2021/diccionario_de_datos/diccionario_de_datos_TPer_Vic1_ENVIPE_2021.csv',\n",
        "                                 encoding = 'latin-1')\n",
        "\n",
        "#Archivo sobre Percepción de Seguridad Pública 2022\n",
        "percepcion2022_df = pd.read_csv(subdir + 'conjunto_de_datos_TPer_Vic1_ENVIPE_2022/conjunto_de_datos/conjunto_de_datos_TPer_Vic1_ENVIPE_2022.csv', \n",
        "                                encoding = 'latin-1')\n",
        "diccionario2022_df = pd.read_csv(subdir + 'conjunto_de_datos_TPer_Vic1_ENVIPE_2022/diccionario_de_datos/diccionario_de_datos_TPer_Vic1_ENVIPE_2022.csv',\n",
        "                                 encoding = 'latin-1')\n"
      ],
      "metadata": {
        "id": "AgI29AUVk21V"
      },
      "execution_count": 57,
      "outputs": []
    }
  ]
}